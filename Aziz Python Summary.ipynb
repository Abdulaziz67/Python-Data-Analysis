{
 "cells": [
  {
   "cell_type": "markdown",
   "id": "c576e040",
   "metadata": {},
   "source": [
    "# Practices"
   ]
  },
  {
   "cell_type": "code",
   "execution_count": 7,
   "id": "59f7ce9e",
   "metadata": {},
   "outputs": [
    {
     "name": "stdout",
     "output_type": "stream",
     "text": [
      "Hello World !\n"
     ]
    }
   ],
   "source": [
    "print('Hello World !')"
   ]
  },
  {
   "cell_type": "code",
   "execution_count": 2,
   "id": "fac79371",
   "metadata": {},
   "outputs": [
    {
     "name": "stdout",
     "output_type": "stream",
     "text": [
      "2\n"
     ]
    }
   ],
   "source": [
    "x = 2\n",
    "\n",
    "print(x)"
   ]
  },
  {
   "cell_type": "code",
   "execution_count": 3,
   "id": "db14eee4",
   "metadata": {},
   "outputs": [
    {
     "data": {
      "text/plain": [
       "int"
      ]
     },
     "execution_count": 3,
     "metadata": {},
     "output_type": "execute_result"
    }
   ],
   "source": [
    "type(x)"
   ]
  },
  {
   "cell_type": "code",
   "execution_count": 4,
   "id": "599adc93",
   "metadata": {},
   "outputs": [
    {
     "name": "stdout",
     "output_type": "stream",
     "text": [
      "7\n"
     ]
    }
   ],
   "source": [
    "print(x+5)"
   ]
  },
  {
   "cell_type": "code",
   "execution_count": 5,
   "id": "929f52ee",
   "metadata": {},
   "outputs": [],
   "source": [
    "y = 3"
   ]
  },
  {
   "cell_type": "code",
   "execution_count": 6,
   "id": "278e28c3",
   "metadata": {},
   "outputs": [
    {
     "name": "stdout",
     "output_type": "stream",
     "text": [
      "6\n"
     ]
    }
   ],
   "source": [
    "print(x * y)"
   ]
  },
  {
   "cell_type": "code",
   "execution_count": 10,
   "id": "fe12bd30",
   "metadata": {},
   "outputs": [
    {
     "data": {
      "text/plain": [
       "bool"
      ]
     },
     "execution_count": 10,
     "metadata": {},
     "output_type": "execute_result"
    }
   ],
   "source": [
    "type(True)"
   ]
  },
  {
   "cell_type": "code",
   "execution_count": 11,
   "id": "de2f3704",
   "metadata": {},
   "outputs": [
    {
     "data": {
      "text/plain": [
       "bool"
      ]
     },
     "execution_count": 11,
     "metadata": {},
     "output_type": "execute_result"
    }
   ],
   "source": [
    "type(1>5)"
   ]
  },
  {
   "cell_type": "code",
   "execution_count": 17,
   "id": "ae0fbdf9",
   "metadata": {},
   "outputs": [],
   "source": [
    "qout1 = ' I have phone '\n",
    "\n",
    "qout2 = \" I've phone \""
   ]
  },
  {
   "cell_type": "code",
   "execution_count": 19,
   "id": "d789a3df",
   "metadata": {},
   "outputs": [
    {
     "data": {
      "text/plain": [
       "str"
      ]
     },
     "execution_count": 19,
     "metadata": {},
     "output_type": "execute_result"
    }
   ],
   "source": [
    "type(qout2)"
   ]
  },
  {
   "cell_type": "markdown",
   "id": "ea579ba8",
   "metadata": {},
   "source": [
    "# _______________________________"
   ]
  },
  {
   "cell_type": "markdown",
   "id": "d49c3387",
   "metadata": {},
   "source": [
    "# (list)"
   ]
  },
  {
   "cell_type": "code",
   "execution_count": 21,
   "id": "50685cb6",
   "metadata": {},
   "outputs": [],
   "source": [
    "real_madrid = ['ronaldo', 'zidane', 'figo']"
   ]
  },
  {
   "cell_type": "code",
   "execution_count": 45,
   "id": "0e4b6870",
   "metadata": {},
   "outputs": [
    {
     "name": "stdout",
     "output_type": "stream",
     "text": [
      "['ronaldo', 'zidane', 'figo']\n"
     ]
    }
   ],
   "source": [
    "print(real_madrid)"
   ]
  },
  {
   "cell_type": "code",
   "execution_count": 27,
   "id": "5621ee1b",
   "metadata": {},
   "outputs": [
    {
     "data": {
      "text/plain": [
       "list"
      ]
     },
     "execution_count": 27,
     "metadata": {},
     "output_type": "execute_result"
    }
   ],
   "source": [
    "type(real_madrid)"
   ]
  },
  {
   "cell_type": "markdown",
   "id": "2c408311",
   "metadata": {},
   "source": [
    "## Add\n"
   ]
  },
  {
   "cell_type": "code",
   "execution_count": 46,
   "id": "1eeaaf59",
   "metadata": {},
   "outputs": [],
   "source": [
    "real_madrid.append('raul')"
   ]
  },
  {
   "cell_type": "code",
   "execution_count": 47,
   "id": "5cfd135b",
   "metadata": {},
   "outputs": [
    {
     "name": "stdout",
     "output_type": "stream",
     "text": [
      "['ronaldo', 'zidane', 'figo', 'raul']\n"
     ]
    }
   ],
   "source": [
    "print(real_madrid)"
   ]
  },
  {
   "cell_type": "markdown",
   "id": "93695762",
   "metadata": {},
   "source": [
    "## Remove"
   ]
  },
  {
   "cell_type": "code",
   "execution_count": 48,
   "id": "2f6d39e9",
   "metadata": {},
   "outputs": [],
   "source": [
    "del real_madrid[2]"
   ]
  },
  {
   "cell_type": "code",
   "execution_count": 49,
   "id": "c4f03e97",
   "metadata": {},
   "outputs": [
    {
     "name": "stdout",
     "output_type": "stream",
     "text": [
      "['ronaldo', 'zidane', 'raul']\n"
     ]
    }
   ],
   "source": [
    "print(real_madrid)"
   ]
  },
  {
   "cell_type": "markdown",
   "id": "b1cf92e8",
   "metadata": {},
   "source": [
    "## Update"
   ]
  },
  {
   "cell_type": "code",
   "execution_count": 50,
   "id": "86b24757",
   "metadata": {},
   "outputs": [],
   "source": [
    "real_madrid[0] = 'beckham'"
   ]
  },
  {
   "cell_type": "code",
   "execution_count": 51,
   "id": "5f99b861",
   "metadata": {},
   "outputs": [
    {
     "name": "stdout",
     "output_type": "stream",
     "text": [
      "['beckham', 'zidane', 'raul']\n"
     ]
    }
   ],
   "source": [
    "print(real_madrid)"
   ]
  },
  {
   "cell_type": "markdown",
   "id": "e00719e9",
   "metadata": {},
   "source": [
    "## Call a value"
   ]
  },
  {
   "cell_type": "code",
   "execution_count": 52,
   "id": "3e349f7e",
   "metadata": {},
   "outputs": [
    {
     "data": {
      "text/plain": [
       "'zidane'"
      ]
     },
     "execution_count": 52,
     "metadata": {},
     "output_type": "execute_result"
    }
   ],
   "source": [
    "real_madrid[1]"
   ]
  },
  {
   "cell_type": "markdown",
   "id": "9eb700a1",
   "metadata": {},
   "source": [
    "# ____________________________"
   ]
  },
  {
   "cell_type": "markdown",
   "id": "94844694",
   "metadata": {},
   "source": [
    "# (Set)"
   ]
  },
  {
   "cell_type": "code",
   "execution_count": 56,
   "id": "cf126a85",
   "metadata": {},
   "outputs": [],
   "source": [
    "## dosnt have duplicate values\n",
    "\n",
    "## cant call a value"
   ]
  },
  {
   "cell_type": "code",
   "execution_count": 53,
   "id": "0fee5a5c",
   "metadata": {},
   "outputs": [],
   "source": [
    "players = {1,2,3,5,3,1,7,2}"
   ]
  },
  {
   "cell_type": "code",
   "execution_count": 55,
   "id": "b926f21c",
   "metadata": {},
   "outputs": [
    {
     "name": "stdout",
     "output_type": "stream",
     "text": [
      "{1, 2, 3, 5, 7}\n"
     ]
    }
   ],
   "source": [
    "print(players)"
   ]
  },
  {
   "cell_type": "code",
   "execution_count": 67,
   "id": "e7fc3d90",
   "metadata": {},
   "outputs": [
    {
     "data": {
      "text/plain": [
       "set"
      ]
     },
     "execution_count": 67,
     "metadata": {},
     "output_type": "execute_result"
    }
   ],
   "source": [
    "type(players)"
   ]
  },
  {
   "cell_type": "markdown",
   "id": "4c3d61a9",
   "metadata": {},
   "source": [
    "# ___________________________"
   ]
  },
  {
   "cell_type": "markdown",
   "id": "4e68e367",
   "metadata": {},
   "source": [
    "# (Dictionary)"
   ]
  },
  {
   "cell_type": "code",
   "execution_count": null,
   "id": "7c156118",
   "metadata": {},
   "outputs": [],
   "source": [
    "# Key:Value pair"
   ]
  },
  {
   "cell_type": "code",
   "execution_count": 59,
   "id": "5f0c5e94",
   "metadata": {},
   "outputs": [],
   "source": [
    "player_info = {'name':'zidane', 'number': 5, 'position': 'midfielder'}"
   ]
  },
  {
   "cell_type": "code",
   "execution_count": 60,
   "id": "f43cbfe0",
   "metadata": {},
   "outputs": [
    {
     "name": "stdout",
     "output_type": "stream",
     "text": [
      "{'name': 'zidane', 'number': 5, 'position': 'midfielder'}\n"
     ]
    }
   ],
   "source": [
    "print(player_info)"
   ]
  },
  {
   "cell_type": "code",
   "execution_count": 61,
   "id": "e6f1cd1c",
   "metadata": {},
   "outputs": [
    {
     "data": {
      "text/plain": [
       "dict"
      ]
     },
     "execution_count": 61,
     "metadata": {},
     "output_type": "execute_result"
    }
   ],
   "source": [
    "type(player_info)"
   ]
  },
  {
   "cell_type": "markdown",
   "id": "efd1c9c0",
   "metadata": {},
   "source": [
    "## Call a Value"
   ]
  },
  {
   "cell_type": "code",
   "execution_count": 62,
   "id": "01b99277",
   "metadata": {},
   "outputs": [
    {
     "data": {
      "text/plain": [
       "'zidane'"
      ]
     },
     "execution_count": 62,
     "metadata": {},
     "output_type": "execute_result"
    }
   ],
   "source": [
    "player_info['name']"
   ]
  },
  {
   "cell_type": "code",
   "execution_count": 63,
   "id": "05859c6d",
   "metadata": {},
   "outputs": [
    {
     "data": {
      "text/plain": [
       "dict_keys(['name', 'number', 'position'])"
      ]
     },
     "execution_count": 63,
     "metadata": {},
     "output_type": "execute_result"
    }
   ],
   "source": [
    "player_info.keys()"
   ]
  },
  {
   "cell_type": "code",
   "execution_count": 64,
   "id": "afdb4c84",
   "metadata": {},
   "outputs": [
    {
     "data": {
      "text/plain": [
       "dict_values(['zidane', 5, 'midfielder'])"
      ]
     },
     "execution_count": 64,
     "metadata": {},
     "output_type": "execute_result"
    }
   ],
   "source": [
    "player_info.values()"
   ]
  },
  {
   "cell_type": "markdown",
   "id": "28935523",
   "metadata": {},
   "source": [
    "## Update"
   ]
  },
  {
   "cell_type": "code",
   "execution_count": 65,
   "id": "e8184528",
   "metadata": {},
   "outputs": [],
   "source": [
    "player_info['position'] = 'centre midfielder'"
   ]
  },
  {
   "cell_type": "code",
   "execution_count": 66,
   "id": "19ab171e",
   "metadata": {},
   "outputs": [
    {
     "name": "stdout",
     "output_type": "stream",
     "text": [
      "{'name': 'zidane', 'number': 5, 'position': 'centre midfielder'}\n"
     ]
    }
   ],
   "source": [
    "print(player_info)"
   ]
  },
  {
   "cell_type": "markdown",
   "id": "32f6595d",
   "metadata": {},
   "source": [
    "#"
   ]
  },
  {
   "cell_type": "markdown",
   "id": "52be09eb",
   "metadata": {},
   "source": [
    "# _______________________________________________________________"
   ]
  },
  {
   "cell_type": "markdown",
   "id": "70055899",
   "metadata": {},
   "source": [
    "# Operators"
   ]
  },
  {
   "cell_type": "markdown",
   "id": "7dab0f9f",
   "metadata": {},
   "source": [
    "## comparison operator"
   ]
  },
  {
   "cell_type": "code",
   "execution_count": 68,
   "id": "0dc6e8cf",
   "metadata": {},
   "outputs": [
    {
     "data": {
      "text/plain": [
       "True"
      ]
     },
     "execution_count": 68,
     "metadata": {},
     "output_type": "execute_result"
    }
   ],
   "source": [
    "5 > 3"
   ]
  },
  {
   "cell_type": "code",
   "execution_count": 69,
   "id": "251d1242",
   "metadata": {},
   "outputs": [
    {
     "data": {
      "text/plain": [
       "False"
      ]
     },
     "execution_count": 69,
     "metadata": {},
     "output_type": "execute_result"
    }
   ],
   "source": [
    "x = 2\n",
    "y = 6\n",
    "\n",
    "y <= x"
   ]
  },
  {
   "cell_type": "markdown",
   "id": "0339918d",
   "metadata": {},
   "source": [
    "## membership operator"
   ]
  },
  {
   "cell_type": "code",
   "execution_count": 88,
   "id": "24a79a42",
   "metadata": {},
   "outputs": [],
   "source": [
    "group = [1,2,3,4,5,6]\n",
    "num1 = 3\n",
    "num2 = 7"
   ]
  },
  {
   "cell_type": "code",
   "execution_count": 76,
   "id": "adebe791",
   "metadata": {},
   "outputs": [
    {
     "data": {
      "text/plain": [
       "True"
      ]
     },
     "execution_count": 76,
     "metadata": {},
     "output_type": "execute_result"
    }
   ],
   "source": [
    "num1 in group"
   ]
  },
  {
   "cell_type": "code",
   "execution_count": 77,
   "id": "8e78d7b5",
   "metadata": {},
   "outputs": [
    {
     "data": {
      "text/plain": [
       "False"
      ]
     },
     "execution_count": 77,
     "metadata": {},
     "output_type": "execute_result"
    }
   ],
   "source": [
    "num2 in group"
   ]
  },
  {
   "cell_type": "code",
   "execution_count": 89,
   "id": "c7274bcf",
   "metadata": {},
   "outputs": [
    {
     "data": {
      "text/plain": [
       "True"
      ]
     },
     "execution_count": 89,
     "metadata": {},
     "output_type": "execute_result"
    }
   ],
   "source": [
    "9 not in group"
   ]
  },
  {
   "cell_type": "markdown",
   "id": "8c2da3af",
   "metadata": {},
   "source": [
    "## logical operator"
   ]
  },
  {
   "cell_type": "code",
   "execution_count": 82,
   "id": "ae2566ed",
   "metadata": {},
   "outputs": [
    {
     "data": {
      "text/plain": [
       "True"
      ]
     },
     "execution_count": 82,
     "metadata": {},
     "output_type": "execute_result"
    }
   ],
   "source": [
    "(5>2) and (5>3)"
   ]
  },
  {
   "cell_type": "code",
   "execution_count": 84,
   "id": "ee0cb8e3",
   "metadata": {},
   "outputs": [
    {
     "data": {
      "text/plain": [
       "False"
      ]
     },
     "execution_count": 84,
     "metadata": {},
     "output_type": "execute_result"
    }
   ],
   "source": [
    "(5>2) and (5==4)"
   ]
  },
  {
   "cell_type": "code",
   "execution_count": 85,
   "id": "9a3f5d06",
   "metadata": {},
   "outputs": [
    {
     "data": {
      "text/plain": [
       "True"
      ]
     },
     "execution_count": 85,
     "metadata": {},
     "output_type": "execute_result"
    }
   ],
   "source": [
    "(2<6) or (3>4)"
   ]
  },
  {
   "cell_type": "code",
   "execution_count": 87,
   "id": "54903566",
   "metadata": {},
   "outputs": [
    {
     "data": {
      "text/plain": [
       "True"
      ]
     },
     "execution_count": 87,
     "metadata": {},
     "output_type": "execute_result"
    }
   ],
   "source": [
    "not(7==4)"
   ]
  },
  {
   "cell_type": "markdown",
   "id": "9e6e455a",
   "metadata": {},
   "source": [
    "#"
   ]
  },
  {
   "cell_type": "markdown",
   "id": "dbff8ebe",
   "metadata": {},
   "source": [
    "# ____________________________________________________________"
   ]
  },
  {
   "cell_type": "markdown",
   "id": "43372e07",
   "metadata": {},
   "source": [
    "# If, Elif, Else statements"
   ]
  },
  {
   "cell_type": "code",
   "execution_count": 7,
   "id": "22ddf65d",
   "metadata": {},
   "outputs": [
    {
     "name": "stdout",
     "output_type": "stream",
     "text": [
      "Positive number\n"
     ]
    }
   ],
   "source": [
    "num = 5\n",
    "if num > 0:\n",
    "    print(\"Positive number\")\n",
    "elif num == 0:\n",
    "    print(\"Zero\")\n",
    "else:\n",
    "    print(\"Negative number\")"
   ]
  },
  {
   "cell_type": "code",
   "execution_count": 8,
   "id": "51ec6de1",
   "metadata": {},
   "outputs": [
    {
     "name": "stdout",
     "output_type": "stream",
     "text": [
      "Zero\n"
     ]
    }
   ],
   "source": [
    "num = 0\n",
    "if num > 0:\n",
    "    print(\"Positive number\")\n",
    "elif num == 0:\n",
    "    print(\"Zero\")\n",
    "else:\n",
    "    print(\"Negative number\")"
   ]
  },
  {
   "cell_type": "code",
   "execution_count": 9,
   "id": "9ec98de2",
   "metadata": {},
   "outputs": [
    {
     "name": "stdout",
     "output_type": "stream",
     "text": [
      "Negative number\n"
     ]
    }
   ],
   "source": [
    "num = -3\n",
    "if num > 0:\n",
    "    print(\"Positive number\")\n",
    "elif num == 0:\n",
    "    print(\"Zero\")\n",
    "else:\n",
    "    print(\"Negative number\")"
   ]
  },
  {
   "cell_type": "markdown",
   "id": "f78c0ebd",
   "metadata": {},
   "source": [
    "#"
   ]
  },
  {
   "cell_type": "code",
   "execution_count": 16,
   "id": "10b1dd3f",
   "metadata": {},
   "outputs": [
    {
     "name": "stdout",
     "output_type": "stream",
     "text": [
      "mega sales\n"
     ]
    }
   ],
   "source": [
    "if 10 < 7:\n",
    "    print('good sales')\n",
    "elif 10==9:\n",
    "    print('not bad sales')\n",
    "elif 10 < 2:\n",
    "    print('normal sales')\n",
    "elif 10 >= 12:\n",
    "    print('excellent sales')\n",
    "else:\n",
    "    print('mega sales')"
   ]
  },
  {
   "cell_type": "markdown",
   "id": "c2128538",
   "metadata": {},
   "source": [
    "#"
   ]
  },
  {
   "cell_type": "markdown",
   "id": "a78d3861",
   "metadata": {},
   "source": [
    "# ______________________________________________________________"
   ]
  },
  {
   "cell_type": "markdown",
   "id": "5cd74adb",
   "metadata": {},
   "source": [
    "# For loops"
   ]
  },
  {
   "cell_type": "code",
   "execution_count": 1,
   "id": "79c3c4f4",
   "metadata": {},
   "outputs": [],
   "source": [
    "# (x, element, i, y) can be named anything i want\n",
    "\n",
    "# range(5) = [0,1,2,3,4]\n",
    "# range(2,5) = [2,3,4]"
   ]
  },
  {
   "cell_type": "code",
   "execution_count": 1,
   "id": "0825d2f8",
   "metadata": {},
   "outputs": [
    {
     "name": "stdout",
     "output_type": "stream",
     "text": [
      "orange\n",
      "apple\n",
      "mango\n",
      "banana\n"
     ]
    }
   ],
   "source": [
    "fruits = ['orange', 'apple', 'mango', 'banana']\n",
    "\n",
    "for x in fruits:\n",
    "    print(x)"
   ]
  },
  {
   "cell_type": "code",
   "execution_count": 20,
   "id": "5e3c7ff0",
   "metadata": {},
   "outputs": [
    {
     "name": "stdout",
     "output_type": "stream",
     "text": [
      "1\n",
      "2\n",
      "3\n"
     ]
    }
   ],
   "source": [
    "for element in range(1,4):\n",
    "    print(element)"
   ]
  },
  {
   "cell_type": "code",
   "execution_count": 13,
   "id": "3395b71f",
   "metadata": {},
   "outputs": [
    {
     "name": "stdout",
     "output_type": "stream",
     "text": [
      "2\n",
      "3\n",
      "4\n"
     ]
    }
   ],
   "source": [
    "for i in range(1,4):\n",
    "    print(i+1)"
   ]
  },
  {
   "cell_type": "code",
   "execution_count": 6,
   "id": "a1139e2e",
   "metadata": {},
   "outputs": [
    {
     "name": "stdout",
     "output_type": "stream",
     "text": [
      "Ali, do you learn python ?\n",
      "Yes, I do\n",
      "Ahmed, do you learn python ?\n",
      "Yes, I do\n",
      "Issa, do you learn python ?\n",
      "Yes, I do\n",
      "They all do .\n"
     ]
    }
   ],
   "source": [
    "names =['Ali', 'Ahmed', 'Issa']\n",
    "\n",
    "for y in names:\n",
    "    print(y + ', do you learn python ?')\n",
    "    print('Yes, I do')\n",
    "print('They all do .')\n"
   ]
  },
  {
   "cell_type": "markdown",
   "id": "78a4a237",
   "metadata": {},
   "source": [
    "#"
   ]
  },
  {
   "cell_type": "markdown",
   "id": "f839fefc",
   "metadata": {},
   "source": [
    "# _________________________________________________________"
   ]
  },
  {
   "cell_type": "markdown",
   "id": "34908910",
   "metadata": {},
   "source": [
    "# While loops"
   ]
  },
  {
   "cell_type": "code",
   "execution_count": 2,
   "id": "0ca24505",
   "metadata": {},
   "outputs": [
    {
     "name": "stdout",
     "output_type": "stream",
     "text": [
      "1\n",
      "2\n",
      "3\n",
      "4\n",
      "done with loop\n"
     ]
    }
   ],
   "source": [
    "i = 1\n",
    "while i <= 4:\n",
    "    print(i)\n",
    "    i = i + 1\n",
    "print('done with loop')"
   ]
  },
  {
   "cell_type": "code",
   "execution_count": 7,
   "id": "6d018cb0",
   "metadata": {},
   "outputs": [
    {
     "name": "stdout",
     "output_type": "stream",
     "text": [
      "0\n",
      "1\n",
      "2\n",
      "3\n"
     ]
    }
   ],
   "source": [
    "number = 0\n",
    "while number < 5:\n",
    "    print(number)\n",
    "    if number == 3:\n",
    "        break\n",
    "    number = number + 1"
   ]
  },
  {
   "cell_type": "markdown",
   "id": "5a1cac18",
   "metadata": {},
   "source": [
    "#"
   ]
  },
  {
   "cell_type": "markdown",
   "id": "5d2cc1e1",
   "metadata": {},
   "source": [
    "# _________________________________________________________"
   ]
  },
  {
   "cell_type": "markdown",
   "id": "2344a20b",
   "metadata": {},
   "source": [
    "# Functions"
   ]
  },
  {
   "cell_type": "code",
   "execution_count": 1,
   "id": "8bd48023",
   "metadata": {},
   "outputs": [],
   "source": [
    "def function():\n",
    "    print('my function')"
   ]
  },
  {
   "cell_type": "code",
   "execution_count": 2,
   "id": "6ed60422",
   "metadata": {},
   "outputs": [
    {
     "name": "stdout",
     "output_type": "stream",
     "text": [
      "my function\n"
     ]
    }
   ],
   "source": [
    "function()"
   ]
  },
  {
   "cell_type": "markdown",
   "id": "e35a4a27",
   "metadata": {},
   "source": [
    "#"
   ]
  },
  {
   "cell_type": "code",
   "execution_count": 19,
   "id": "97a22a9a",
   "metadata": {},
   "outputs": [],
   "source": [
    "def number_multiply(x,y):\n",
    "    print(x * y)"
   ]
  },
  {
   "cell_type": "code",
   "execution_count": 22,
   "id": "a84952b7",
   "metadata": {},
   "outputs": [
    {
     "name": "stdout",
     "output_type": "stream",
     "text": [
      "10\n"
     ]
    }
   ],
   "source": [
    "number_multiply(2,5)"
   ]
  },
  {
   "cell_type": "markdown",
   "id": "6045152d",
   "metadata": {},
   "source": [
    "#"
   ]
  },
  {
   "cell_type": "code",
   "execution_count": 20,
   "id": "596f0b58",
   "metadata": {},
   "outputs": [],
   "source": [
    "def number_multiply(x,y):\n",
    "    print(x * y)"
   ]
  },
  {
   "cell_type": "code",
   "execution_count": 23,
   "id": "f30bcf19",
   "metadata": {},
   "outputs": [
    {
     "name": "stdout",
     "output_type": "stream",
     "text": [
      "10\n"
     ]
    }
   ],
   "source": [
    "number_multiply(x = 2 , y = 5)"
   ]
  },
  {
   "cell_type": "markdown",
   "id": "ed6433ad",
   "metadata": {},
   "source": [
    "#"
   ]
  },
  {
   "cell_type": "code",
   "execution_count": 7,
   "id": "21dbc3c7",
   "metadata": {},
   "outputs": [],
   "source": [
    "def num_powered(x,y):\n",
    "    print(x**y)"
   ]
  },
  {
   "cell_type": "code",
   "execution_count": 10,
   "id": "e028d770",
   "metadata": {},
   "outputs": [
    {
     "name": "stdout",
     "output_type": "stream",
     "text": [
      "64\n"
     ]
    }
   ],
   "source": [
    "num_powered(4,3)"
   ]
  },
  {
   "cell_type": "markdown",
   "id": "7b013b68",
   "metadata": {},
   "source": [
    "#"
   ]
  },
  {
   "cell_type": "code",
   "execution_count": 11,
   "id": "a887d9ce",
   "metadata": {},
   "outputs": [],
   "source": [
    "# if I dont know how many arguments, I use *"
   ]
  },
  {
   "cell_type": "code",
   "execution_count": 16,
   "id": "f03be188",
   "metadata": {},
   "outputs": [
    {
     "name": "stdout",
     "output_type": "stream",
     "text": [
      "8\n"
     ]
    }
   ],
   "source": [
    "def number_group(*number):\n",
    "    print(number[0] + number[2])\n",
    "    \n",
    "number_group(3,6,5,9,7)"
   ]
  },
  {
   "cell_type": "markdown",
   "id": "a96c152a",
   "metadata": {},
   "source": [
    "#"
   ]
  },
  {
   "cell_type": "code",
   "execution_count": 29,
   "id": "ded01fd0",
   "metadata": {},
   "outputs": [],
   "source": [
    "# I need to undrestand this more"
   ]
  },
  {
   "cell_type": "code",
   "execution_count": 11,
   "id": "4a67dff0",
   "metadata": {},
   "outputs": [],
   "source": [
    "def number_key(**number):\n",
    "    print('My number is : ' + number['integer'])"
   ]
  },
  {
   "cell_type": "code",
   "execution_count": 12,
   "id": "d6685de6",
   "metadata": {},
   "outputs": [
    {
     "name": "stdout",
     "output_type": "stream",
     "text": [
      "My number is :  200\n"
     ]
    }
   ],
   "source": [
    "number_key(integer = ' 200')"
   ]
  },
  {
   "cell_type": "markdown",
   "id": "07edcbd1",
   "metadata": {},
   "source": [
    "#"
   ]
  },
  {
   "cell_type": "markdown",
   "id": "5125b89a",
   "metadata": {},
   "source": [
    "# ___________________________________________________________"
   ]
  },
  {
   "cell_type": "markdown",
   "id": "ada2bfc6",
   "metadata": {},
   "source": [
    "# Converting Data Types"
   ]
  },
  {
   "cell_type": "code",
   "execution_count": 37,
   "id": "bfdf7b7c",
   "metadata": {},
   "outputs": [],
   "source": [
    "num_str = '6'"
   ]
  },
  {
   "cell_type": "code",
   "execution_count": 38,
   "id": "584552a4",
   "metadata": {},
   "outputs": [
    {
     "data": {
      "text/plain": [
       "str"
      ]
     },
     "execution_count": 38,
     "metadata": {},
     "output_type": "execute_result"
    }
   ],
   "source": [
    "type(num_str)"
   ]
  },
  {
   "cell_type": "code",
   "execution_count": 56,
   "id": "a6c8be1c",
   "metadata": {},
   "outputs": [],
   "source": [
    "num_int = int(num_str)"
   ]
  },
  {
   "cell_type": "code",
   "execution_count": 57,
   "id": "571844e8",
   "metadata": {},
   "outputs": [
    {
     "data": {
      "text/plain": [
       "int"
      ]
     },
     "execution_count": 57,
     "metadata": {},
     "output_type": "execute_result"
    }
   ],
   "source": [
    "type(num_int)"
   ]
  },
  {
   "cell_type": "markdown",
   "id": "c2602cd6",
   "metadata": {},
   "source": [
    "#"
   ]
  },
  {
   "cell_type": "code",
   "execution_count": 41,
   "id": "dbd8092a",
   "metadata": {},
   "outputs": [],
   "source": [
    "group = [2,4,1,5,3,1,2,6]"
   ]
  },
  {
   "cell_type": "code",
   "execution_count": 42,
   "id": "85a681c5",
   "metadata": {},
   "outputs": [
    {
     "data": {
      "text/plain": [
       "list"
      ]
     },
     "execution_count": 42,
     "metadata": {},
     "output_type": "execute_result"
    }
   ],
   "source": [
    "type(group)"
   ]
  },
  {
   "cell_type": "code",
   "execution_count": 68,
   "id": "7bc10b63",
   "metadata": {},
   "outputs": [
    {
     "data": {
      "text/plain": [
       "(2, 4, 1, 5, 3, 1, 2, 6)"
      ]
     },
     "execution_count": 68,
     "metadata": {},
     "output_type": "execute_result"
    }
   ],
   "source": [
    "tuple(group)"
   ]
  },
  {
   "cell_type": "code",
   "execution_count": 64,
   "id": "b901b156",
   "metadata": {},
   "outputs": [
    {
     "data": {
      "text/plain": [
       "tuple"
      ]
     },
     "execution_count": 64,
     "metadata": {},
     "output_type": "execute_result"
    }
   ],
   "source": [
    "type(tuple(group))"
   ]
  },
  {
   "cell_type": "code",
   "execution_count": 69,
   "id": "56c80bd8",
   "metadata": {},
   "outputs": [
    {
     "data": {
      "text/plain": [
       "{1, 2, 3, 4, 5, 6}"
      ]
     },
     "execution_count": 69,
     "metadata": {},
     "output_type": "execute_result"
    }
   ],
   "source": [
    "set(group)"
   ]
  },
  {
   "cell_type": "code",
   "execution_count": 70,
   "id": "e674843c",
   "metadata": {},
   "outputs": [
    {
     "data": {
      "text/plain": [
       "set"
      ]
     },
     "execution_count": 70,
     "metadata": {},
     "output_type": "execute_result"
    }
   ],
   "source": [
    "type(set(group))"
   ]
  },
  {
   "cell_type": "markdown",
   "id": "a50780be",
   "metadata": {},
   "source": [
    "#"
   ]
  },
  {
   "cell_type": "code",
   "execution_count": 71,
   "id": "1af84827",
   "metadata": {},
   "outputs": [],
   "source": [
    "group_dic = {'name': 'figo', 'age': 32, 'psition': 'RW'}"
   ]
  },
  {
   "cell_type": "code",
   "execution_count": 72,
   "id": "4b71b83f",
   "metadata": {},
   "outputs": [
    {
     "data": {
      "text/plain": [
       "dict"
      ]
     },
     "execution_count": 72,
     "metadata": {},
     "output_type": "execute_result"
    }
   ],
   "source": [
    "type(group_dic)"
   ]
  },
  {
   "cell_type": "code",
   "execution_count": 73,
   "id": "3bf902b1",
   "metadata": {},
   "outputs": [
    {
     "data": {
      "text/plain": [
       "dict_items([('name', 'figo'), ('age', 32), ('psition', 'RW')])"
      ]
     },
     "execution_count": 73,
     "metadata": {},
     "output_type": "execute_result"
    }
   ],
   "source": [
    "group_dic.items()"
   ]
  },
  {
   "cell_type": "code",
   "execution_count": 76,
   "id": "1611638d",
   "metadata": {},
   "outputs": [
    {
     "data": {
      "text/plain": [
       "dict_keys(['name', 'age', 'psition'])"
      ]
     },
     "execution_count": 76,
     "metadata": {},
     "output_type": "execute_result"
    }
   ],
   "source": [
    "group_dic.keys()"
   ]
  },
  {
   "cell_type": "code",
   "execution_count": 75,
   "id": "fa4873f4",
   "metadata": {},
   "outputs": [
    {
     "data": {
      "text/plain": [
       "dict_values(['figo', 32, 'RW'])"
      ]
     },
     "execution_count": 75,
     "metadata": {},
     "output_type": "execute_result"
    }
   ],
   "source": [
    "group_dic.values()"
   ]
  },
  {
   "cell_type": "code",
   "execution_count": 77,
   "id": "83b42d0b",
   "metadata": {},
   "outputs": [
    {
     "data": {
      "text/plain": [
       "['figo', 32, 'RW']"
      ]
     },
     "execution_count": 77,
     "metadata": {},
     "output_type": "execute_result"
    }
   ],
   "source": [
    "list(group_dic.values())"
   ]
  },
  {
   "cell_type": "code",
   "execution_count": 78,
   "id": "24a4c101",
   "metadata": {},
   "outputs": [
    {
     "data": {
      "text/plain": [
       "list"
      ]
     },
     "execution_count": 78,
     "metadata": {},
     "output_type": "execute_result"
    }
   ],
   "source": [
    "type(list(group_dic.values()))"
   ]
  },
  {
   "cell_type": "markdown",
   "id": "ec84b99a",
   "metadata": {},
   "source": [
    "#"
   ]
  },
  {
   "cell_type": "markdown",
   "id": "52ac19f6",
   "metadata": {},
   "source": [
    "# ____________________________________________________________"
   ]
  },
  {
   "cell_type": "markdown",
   "id": "1effd827",
   "metadata": {},
   "source": [
    "# BMI calculator project"
   ]
  },
  {
   "cell_type": "code",
   "execution_count": 13,
   "id": "d021abbb",
   "metadata": {},
   "outputs": [
    {
     "name": "stdout",
     "output_type": "stream",
     "text": [
      "enter your name : Abdulaziz\n",
      "enter your weight : 62\n",
      "enter your hight : 1.7\n",
      "21.453287197231838\n",
      "Abdulaziz, you are normal .\n"
     ]
    }
   ],
   "source": [
    "name = input(\"enter your name : \")\n",
    "\n",
    "weight = int(input(\"enter your weight : \"))\n",
    "\n",
    "hight = float(input(\"enter your hight : \"))\n",
    "\n",
    "BMI = (weight) / (hight * hight)\n",
    "\n",
    "print(BMI)\n",
    "\n",
    "if (BMI <= 18.5):\n",
    "    print(name + \", you are thin .\")\n",
    "\n",
    "elif (BMI <= 25):\n",
    "    print(name + \", you are normal .\")\n",
    "    \n",
    "elif (BMI <= 30):\n",
    "    print(name + \", you are overweight .\")\n",
    "    \n",
    "elif (BMI > 31):\n",
    "    print(name + \", you are obese .\")\n",
    "    \n",
    "else:\n",
    "    print(\"enter valid numbers .\")"
   ]
  },
  {
   "cell_type": "markdown",
   "id": "aef743e6",
   "metadata": {},
   "source": [
    "#"
   ]
  },
  {
   "cell_type": "markdown",
   "id": "8b2fc119",
   "metadata": {},
   "source": [
    "# _______________________________________________________________"
   ]
  }
 ],
 "metadata": {
  "kernelspec": {
   "display_name": "Python 3 (ipykernel)",
   "language": "python",
   "name": "python3"
  },
  "language_info": {
   "codemirror_mode": {
    "name": "ipython",
    "version": 3
   },
   "file_extension": ".py",
   "mimetype": "text/x-python",
   "name": "python",
   "nbconvert_exporter": "python",
   "pygments_lexer": "ipython3",
   "version": "3.10.9"
  }
 },
 "nbformat": 4,
 "nbformat_minor": 5
}
